{
 "cells": [
  {
   "cell_type": "markdown",
   "metadata": {},
   "source": [
    "Link referred\n",
    "https://towardsdatascience.com/time-series-classification-for-human-activity-recognition-with-lstms-using-tensorflow-2-and-keras-b816431afdff"
   ]
  },
  {
   "cell_type": "code",
   "execution_count": 5,
   "metadata": {},
   "outputs": [],
   "source": [
    "import pandas as pd\n",
    "import matplotlib.pyplot as plt\n",
    "import seaborn as sns\n",
    "\n",
    "from sklearn.model_selection import train_test_split\n",
    "\n",
    "import glob\n",
    "\n",
    "from sklearn.preprocessing import RobustScaler\n",
    "from scipy import stats\n",
    "import numpy as np\n",
    "import h5py\n",
    "from tensorflow.keras.models import model_from_json"
   ]
  },
  {
   "cell_type": "code",
   "execution_count": 6,
   "metadata": {},
   "outputs": [],
   "source": [
    "def get_raw_data(xfile, yfile):\n",
    "    check_df_y = pd.read_csv(yfile)\n",
    "    check_df_x = pd.read_csv(xfile)\n",
    "    \n",
    "    new_labels = []\n",
    "    for i in check_df_y.iterrows():\n",
    "        new_labels += [i[1][0]] * 4\n",
    "    \n",
    "    new_labels = pd.DataFrame(new_labels)\n",
    "    diff = check_df_x.shape[0] - new_labels.shape[0]\n",
    "    check_df_x = check_df_x.iloc[:-diff,:]\n",
    "    \n",
    "    return check_df_x, new_labels"
   ]
  },
  {
   "cell_type": "code",
   "execution_count": 7,
   "metadata": {},
   "outputs": [],
   "source": [
    "def compose_series_data(x_files, y_files, time_steps = 40, step = 1):\n",
    "    all_x = []\n",
    "    all_y = []\n",
    "    # create a series from all the subjects\n",
    "    for i in range(len(y_files)):\n",
    "        # get x-y balanced data, basically removed the extra values in x\n",
    "        X, y = get_raw_data(x_files[i], y_files[i])\n",
    "        \n",
    "        # scale data\n",
    "        X = scale_data(X, list(X.columns.values))\n",
    "        # create series data for this file\n",
    "        X, y = create_dataset_with_mode_labels(X, y, time_steps = time_steps, step = step)\n",
    "        \n",
    "        all_x.append(X)\n",
    "        all_y.append(y)\n",
    "    return np.concatenate(all_x), np.concatenate(all_y)"
   ]
  },
  {
   "cell_type": "code",
   "execution_count": 8,
   "metadata": {},
   "outputs": [],
   "source": [
    "def scale_data(df_data, scale_columns):\n",
    "    scaler = RobustScaler()\n",
    "    scaler = scaler.fit(df_data[scale_columns])\n",
    "\n",
    "    df_data.loc[:, scale_columns] = scaler.transform(df_data[scale_columns].to_numpy())\n",
    "    return df_data"
   ]
  },
  {
   "cell_type": "code",
   "execution_count": 9,
   "metadata": {},
   "outputs": [],
   "source": [
    "def create_dataset_with_mode_labels(X, y, time_steps=1, step=1):\n",
    "    Xs, ys = [], []\n",
    "    for i in range(0, len(X) - time_steps, step):\n",
    "        v = X.iloc[i:(i + time_steps)].values\n",
    "        labels = y.iloc[i: i + time_steps]\n",
    "        Xs.append(v)\n",
    "        ys.append(stats.mode(labels)[0][0])\n",
    "    return np.array(Xs), np.array(ys).reshape(-1, 1)"
   ]
  },
  {
   "cell_type": "code",
   "execution_count": 10,
   "metadata": {},
   "outputs": [],
   "source": [
    "def create_dataset(X, label, time_steps = 40, step = 1):\n",
    "    Xs, ys = [], []\n",
    "    for i in range(0, len(X) - time_steps, step):\n",
    "        v = X.iloc[i:(i + time_steps)].values\n",
    "        Xs.append(v)        \n",
    "        ys.append(label)\n",
    "    return np.array(Xs), np.array(ys).reshape(-1, 1)"
   ]
  },
  {
   "cell_type": "code",
   "execution_count": 8,
   "metadata": {},
   "outputs": [],
   "source": [
    "all_y_files = sorted(glob.glob('Data/TrainingData/subject_???_??__y.csv'))\n",
    "all_x_files = sorted(glob.glob('Data/TrainingData/subject_???_??__x.csv'))\n",
    "\n",
    "test_y_files = [] #[\"Data/TrainingData/subject_002_03__y.csv\", \"Data/TrainingData/subject_001_04__y.csv\"]\n",
    "test_x_files = [] #[\"Data/TrainingData/subject_002_03__x.csv\", \"Data/TrainingData/subject_001_04__x.csv\"]\n",
    "\n",
    "val_y_files = [] # [\"Data/TrainingData/subject_003_02__y.csv\", \"Data/TrainingData/subject_007_04__y.csv\"]\n",
    "val_x_files = [] # [\"Data/TrainingData/subject_003_02__x.csv\", \"Data/TrainingData/subject_007_04__x.csv\"]\n",
    "\n",
    "# subtract the files that are in test and val\n",
    "train_y_files = sorted(list(set(all_y_files) ^ set(test_y_files + val_y_files)))\n",
    "train_x_files = sorted(list(set(all_x_files) ^ set(test_x_files + val_x_files)))"
   ]
  },
  {
   "cell_type": "code",
   "execution_count": 11,
   "metadata": {},
   "outputs": [],
   "source": [
    "TIME_STEPS = 60\n",
    "STEP = 1"
   ]
  },
  {
   "cell_type": "code",
   "execution_count": 11,
   "metadata": {},
   "outputs": [
    {
     "name": "stdout",
     "output_type": "stream",
     "text": [
      "(1339796, 60, 6) (1339796, 1)\n"
     ]
    }
   ],
   "source": [
    "X_train, y_train = compose_series_data(train_x_files, train_y_files, time_steps = TIME_STEPS, step = STEP)\n",
    "# X_val, y_val = compose_series_data(val_x_files, val_y_files, time_steps = TIME_STEPS, step = STEP)\n",
    "# X_test, y_test = compose_series_data(test_x_files, test_y_files, time_steps = TIME_STEPS, step = STEP)\n",
    "\n",
    "print(X_train.shape, y_train.shape)\n",
    "# print(X_val.shape, y_val.shape)\n",
    "# print(X_test.shape, y_test.shape)\n"
   ]
  },
  {
   "cell_type": "code",
   "execution_count": 12,
   "metadata": {},
   "outputs": [
    {
     "name": "stdout",
     "output_type": "stream",
     "text": [
      "[0.33302644 6.08865338 4.60120062 1.62427079]\n"
     ]
    },
    {
     "name": "stderr",
     "output_type": "stream",
     "text": [
      "/opt/conda/lib/python3.7/site-packages/sklearn/utils/validation.py:70: FutureWarning: Pass classes=[0 1 2 3], y=[0 0 0 ... 0 0 0] as keyword args. From version 0.25 passing these as positional arguments will result in an error\n",
      "  FutureWarning)\n"
     ]
    },
    {
     "data": {
      "text/plain": [
       "{0: 0.3330264383712826,\n",
       " 1: 6.0886533847160615,\n",
       " 2: 4.6012006154184295,\n",
       " 3: 1.624270785345392}"
      ]
     },
     "execution_count": 12,
     "metadata": {},
     "output_type": "execute_result"
    }
   ],
   "source": [
    "from sklearn.utils import class_weight\n",
    "class_weights = class_weight.compute_class_weight('balanced',\n",
    "                                                 np.unique(y_train),\n",
    "                                                 y_train.ravel())\n",
    "print(class_weights)\n",
    "class_weights = {i:class_weights[i] for i in range(len(class_weights))}\n",
    "class_weights"
   ]
  },
  {
   "cell_type": "code",
   "execution_count": 13,
   "metadata": {},
   "outputs": [],
   "source": [
    "from sklearn.preprocessing import OneHotEncoder\n",
    "\n",
    "enc = OneHotEncoder(handle_unknown='ignore', sparse=False)\n",
    "enc = enc.fit(y_train)\n",
    "\n",
    "y_train = enc.transform(y_train)\n",
    "# y_test = enc.transform(y_test)\n",
    "# y_val = enc.transform(y_val)"
   ]
  },
  {
   "cell_type": "code",
   "execution_count": 12,
   "metadata": {},
   "outputs": [],
   "source": [
    "import tensorflow as tf\n",
    "from tensorflow import keras"
   ]
  },
  {
   "cell_type": "code",
   "execution_count": 25,
   "metadata": {},
   "outputs": [],
   "source": [
    "model = keras.Sequential()\n",
    "model.add(\n",
    "    keras.layers.Bidirectional(\n",
    "      keras.layers.LSTM(\n",
    "          units=128, \n",
    "          input_shape=[X_train.shape[1], X_train.shape[2]]\n",
    "      )\n",
    "    )\n",
    ")\n",
    "model.add(keras.layers.Dropout(rate=0.5))\n",
    "model.add(keras.layers.Dense(units=128, activation='relu'))\n",
    "model.add(keras.layers.Dense(y_train.shape[1], activation='softmax'))\n",
    "model.compile(loss='categorical_crossentropy', optimizer='adam', metrics=['acc'])"
   ]
  },
  {
   "cell_type": "code",
   "execution_count": 26,
   "metadata": {},
   "outputs": [
    {
     "name": "stdout",
     "output_type": "stream",
     "text": [
      "WARNING:tensorflow:sample_weight modes were coerced from\n",
      "  ...\n",
      "    to  \n",
      "  ['...']\n",
      "Train on 1339796 samples\n",
      "Epoch 1/20\n",
      "1339796/1339796 [==============================] - 114s 85us/sample - loss: 1.1947 - acc: 0.3699\n",
      "Epoch 2/20\n",
      "1339796/1339796 [==============================] - 111s 83us/sample - loss: 0.5218 - acc: 0.6235\n",
      "Epoch 3/20\n",
      "1339796/1339796 [==============================] - 110s 82us/sample - loss: 0.4332 - acc: 0.6799\n",
      "Epoch 4/20\n",
      "1339796/1339796 [==============================] - 109s 81us/sample - loss: 0.3251 - acc: 0.7939\n",
      "Epoch 5/20\n",
      "1339796/1339796 [==============================] - 110s 82us/sample - loss: 0.2507 - acc: 0.8540\n",
      "Epoch 6/20\n",
      "1339796/1339796 [==============================] - ETA: 0s - loss: 0.2059 - acc: 0.878 - 108s 81us/sample - loss: 0.2058 - acc: 0.8782\n",
      "Epoch 7/20\n",
      "1339796/1339796 [==============================] - 106s 79us/sample - loss: 0.1765 - acc: 0.8992\n",
      "Epoch 8/20\n",
      "1339796/1339796 [==============================] - 108s 81us/sample - loss: 0.1608 - acc: 0.9102\n",
      "Epoch 9/20\n",
      "1339796/1339796 [==============================] - 110s 82us/sample - loss: 0.1411 - acc: 0.9197\n",
      "Epoch 10/20\n",
      "1339796/1339796 [==============================] - 109s 81us/sample - loss: 0.1270 - acc: 0.9252\n",
      "Epoch 11/20\n",
      "1339796/1339796 [==============================] - 113s 84us/sample - loss: 0.1159 - acc: 0.9327\n",
      "Epoch 12/20\n",
      "1339796/1339796 [==============================] - 119s 89us/sample - loss: 0.0871 - acc: 0.9478\n",
      "Epoch 15/20\n",
      "1339796/1339796 [==============================] - 119s 89us/sample - loss: 0.0617 - acc: 0.9620\n",
      "Epoch 20/20\n",
      "1339796/1339796 [==============================] - 118s 88us/sample - loss: 0.0605 - acc: 0.9644\n"
     ]
    }
   ],
   "source": [
    "callback = tf.keras.callbacks.EarlyStopping(monitor='loss', patience=3)\n",
    "\n",
    "history = model.fit(\n",
    "    X_train, y_train,\n",
    "    epochs=20,\n",
    "    batch_size=128,\n",
    "#     validation_split=0,\n",
    "#     validation_data=(X_val,y_val),\n",
    "    class_weight=class_weights,\n",
    "    shuffle=False\n",
    ")"
   ]
  },
  {
   "cell_type": "code",
   "execution_count": 27,
   "metadata": {},
   "outputs": [
    {
     "data": {
      "image/png": "[encoded data removed]",
      "text/plain": [
       "<Figure size 432x288 with 1 Axes>"
      ]
     },
     "metadata": {
      "needs_background": "light"
     },
     "output_type": "display_data"
    }
   ],
   "source": [
    "plt.plot(history.history['loss'], label='train')\n",
    "# plt.plot(history.history['val_loss'], label='test')\n",
    "plt.legend();"
   ]
  },
  {
   "cell_type": "code",
   "execution_count": 19,
   "metadata": {},
   "outputs": [
    {
     "name": "stdout",
     "output_type": "stream",
     "text": [
      "103624/103624 [==============================] - 30s 292us/sample - loss: 0.5089 - acc: 0.7793\n"
     ]
    },
    {
     "data": {
      "text/plain": [
       "[0.5088828856851019, 0.77931756]"
      ]
     },
     "execution_count": 19,
     "metadata": {},
     "output_type": "execute_result"
    }
   ],
   "source": [
    "model.evaluate(X_test, y_test)"
   ]
  },
  {
   "cell_type": "code",
   "execution_count": 17,
   "metadata": {},
   "outputs": [],
   "source": [
    "y_pred = model.predict(X_test)"
   ]
  },
  {
   "cell_type": "code",
   "execution_count": 18,
   "metadata": {},
   "outputs": [],
   "source": [
    "from sklearn.metrics import confusion_matrix, classification_report\n",
    "\n",
    "def plot_cm(y_true, y_pred, class_names):\n",
    "  cm = confusion_matrix(y_true, y_pred)\n",
    "  fig, ax = plt.subplots(figsize=(18, 16)) \n",
    "  ax = sns.heatmap(\n",
    "      cm, \n",
    "      annot=True, \n",
    "      fmt=\"d\", \n",
    "      cmap=sns.diverging_palette(220, 20, n=7),\n",
    "      ax=ax\n",
    "  )\n",
    "\n",
    "  plt.ylabel('Actual')\n",
    "  plt.xlabel('Predicted')\n",
    "  ax.set_xticklabels(class_names)\n",
    "  ax.set_yticklabels(class_names)\n",
    "  b, t = plt.ylim() # discover the values for bottom and top\n",
    "  b += 0.5 # Add 0.5 to the bottom\n",
    "  t -= 0.5 # Subtract 0.5 from the top\n",
    "  plt.ylim(b, t) # update the ylim(bottom, top) values\n",
    "  plt.show() # ta-da!"
   ]
  },
  {
   "cell_type": "code",
   "execution_count": 19,
   "metadata": {},
   "outputs": [
    {
     "data": {
      "image/png": "[encoded data removed]",
      "text/plain": [
       "<Figure size 1296x1152 with 2 Axes>"
      ]
     },
     "metadata": {
      "needs_background": "light"
     },
     "output_type": "display_data"
    }
   ],
   "source": [
    "plot_cm(\n",
    "  enc.inverse_transform(y_test),\n",
    "  enc.inverse_transform(y_pred),\n",
    "  enc.categories_[0]\n",
    ")"
   ]
  },
  {
   "cell_type": "code",
   "execution_count": 20,
   "metadata": {},
   "outputs": [
    {
     "name": "stdout",
     "output_type": "stream",
     "text": [
      "              precision    recall  f1-score   support\n",
      "\n",
      "           0       0.96      0.95      0.96     75800\n",
      "           1       0.95      0.92      0.93      6134\n",
      "           2       0.85      0.94      0.89      5506\n",
      "           3       0.85      0.85      0.85     16224\n",
      "\n",
      "    accuracy                           0.94    103664\n",
      "   macro avg       0.90      0.92      0.91    103664\n",
      "weighted avg       0.94      0.94      0.94    103664\n",
      "\n"
     ]
    }
   ],
   "source": [
    "print(classification_report(enc.inverse_transform(y_test), enc.inverse_transform(y_pred)))"
   ]
  },
  {
   "cell_type": "code",
   "execution_count": 13,
   "metadata": {},
   "outputs": [],
   "source": [
    "def save_model(model, name):\n",
    "    model_json = model.to_json()\n",
    "    with open(\"%s.json\"%(name), \"w\") as json_file:\n",
    "        json_file.write(model_json)\n",
    "    model.save_weights(\"%s.hdf5\"%(name))"
   ]
  },
  {
   "cell_type": "code",
   "execution_count": 14,
   "metadata": {},
   "outputs": [],
   "source": [
    "def get_model(name):\n",
    "    json_file = open('%s.json'%(name), 'r')\n",
    "    loaded_model_json = json_file.read()\n",
    "    json_file.close()\n",
    "    loaded_model = model_from_json(loaded_model_json)\n",
    "    loaded_model.load_weights(\"%s.hdf5\"%(name))\n",
    "    model = loaded_model\n",
    "    return model"
   ]
  },
  {
   "cell_type": "code",
   "execution_count": 15,
   "metadata": {},
   "outputs": [],
   "source": [
    "# save the model\n",
    "# note the time steps\n",
    "model_name = \"model_BiLSTM_window_continuous_no_val_ts%d_s%d\"%(TIME_STEPS, STEP)"
   ]
  },
  {
   "cell_type": "code",
   "execution_count": 31,
   "metadata": {},
   "outputs": [],
   "source": [
    "save_model(model, model_name)"
   ]
  }
 ],
 "metadata": {
  "environment": {
   "name": "tf2-gpu.2-1.m58",
   "type": "gcloud",
   "uri": "gcr.io/deeplearning-platform-release/tf2-gpu.2-1:m58"
  },
  "kernelspec": {
   "display_name": "Python 3",
   "language": "python",
   "name": "python3"
  },
  "language_info": {
   "codemirror_mode": {
    "name": "ipython",
    "version": 3
   },
   "file_extension": ".py",
   "mimetype": "text/x-python",
   "name": "python",
   "nbconvert_exporter": "python",
   "pygments_lexer": "ipython3",
   "version": "3.7.9"
  }
 },
 "nbformat": 4,
 "nbformat_minor": 4
}
