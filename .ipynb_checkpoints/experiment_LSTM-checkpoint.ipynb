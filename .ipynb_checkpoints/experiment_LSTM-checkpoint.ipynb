{
 "cells": [
  {
   "cell_type": "markdown",
   "metadata": {},
   "source": [
    "Link referred\n",
    "https://towardsdatascience.com/time-series-classification-for-human-activity-recognition-with-lstms-using-tensorflow-2-and-keras-b816431afdff"
   ]
  },
  {
   "cell_type": "code",
   "execution_count": 7,
   "metadata": {},
   "outputs": [
    {
     "name": "stdout",
     "output_type": "stream",
     "text": [
      "Requirement already satisfied: pandas in c:\\users\\sudhakar\\anaconda3\\envs\\tf-gpu\\lib\\site-packages (1.1.4)\n",
      "Requirement already satisfied: numpy>=1.15.4 in c:\\users\\sudhakar\\anaconda3\\envs\\tf-gpu\\lib\\site-packages (from pandas) (1.19.2)\n",
      "Requirement already satisfied: python-dateutil>=2.7.3 in c:\\users\\sudhakar\\anaconda3\\envs\\tf-gpu\\lib\\site-packages (from pandas) (2.8.1)\n",
      "Requirement already satisfied: pytz>=2017.2 in c:\\users\\sudhakar\\anaconda3\\envs\\tf-gpu\\lib\\site-packages (from pandas) (2020.4)\n",
      "Requirement already satisfied: six>=1.5 in c:\\users\\sudhakar\\anaconda3\\envs\\tf-gpu\\lib\\site-packages (from python-dateutil>=2.7.3->pandas) (1.15.0)\n",
      "Requirement already satisfied: matplotlib in c:\\users\\sudhakar\\anaconda3\\envs\\tf-gpu\\lib\\site-packages (3.3.2)\n",
      "Requirement already satisfied: kiwisolver>=1.0.1 in c:\\users\\sudhakar\\anaconda3\\envs\\tf-gpu\\lib\\site-packages (from matplotlib) (1.3.1)\n",
      "Requirement already satisfied: pillow>=6.2.0 in c:\\users\\sudhakar\\anaconda3\\envs\\tf-gpu\\lib\\site-packages (from matplotlib) (8.0.1)\n",
      "Requirement already satisfied: certifi>=2020.06.20 in c:\\users\\sudhakar\\anaconda3\\envs\\tf-gpu\\lib\\site-packages (from matplotlib) (2020.6.20)\n",
      "Requirement already satisfied: numpy>=1.15 in c:\\users\\sudhakar\\anaconda3\\envs\\tf-gpu\\lib\\site-packages (from matplotlib) (1.19.2)\n",
      "Requirement already satisfied: python-dateutil>=2.1 in c:\\users\\sudhakar\\anaconda3\\envs\\tf-gpu\\lib\\site-packages (from matplotlib) (2.8.1)\n",
      "Requirement already satisfied: cycler>=0.10 in c:\\users\\sudhakar\\anaconda3\\envs\\tf-gpu\\lib\\site-packages (from matplotlib) (0.10.0)\n",
      "Requirement already satisfied: pyparsing!=2.0.4,!=2.1.2,!=2.1.6,>=2.0.3 in c:\\users\\sudhakar\\anaconda3\\envs\\tf-gpu\\lib\\site-packages (from matplotlib) (2.4.7)\n",
      "Requirement already satisfied: six>=1.5 in c:\\users\\sudhakar\\anaconda3\\envs\\tf-gpu\\lib\\site-packages (from python-dateutil>=2.1->matplotlib) (1.15.0)\n",
      "Requirement already satisfied: seaborn in c:\\users\\sudhakar\\anaconda3\\envs\\tf-gpu\\lib\\site-packages (0.11.0)\n",
      "Requirement already satisfied: matplotlib>=2.2 in c:\\users\\sudhakar\\anaconda3\\envs\\tf-gpu\\lib\\site-packages (from seaborn) (3.3.2)\n",
      "Requirement already satisfied: scipy>=1.0 in c:\\users\\sudhakar\\anaconda3\\envs\\tf-gpu\\lib\\site-packages (from seaborn) (1.5.2)\n",
      "Requirement already satisfied: numpy>=1.15 in c:\\users\\sudhakar\\anaconda3\\envs\\tf-gpu\\lib\\site-packages (from seaborn) (1.19.2)\n",
      "Requirement already satisfied: pandas>=0.23 in c:\\users\\sudhakar\\anaconda3\\envs\\tf-gpu\\lib\\site-packages (from seaborn) (1.1.4)\n",
      "Requirement already satisfied: python-dateutil>=2.1 in c:\\users\\sudhakar\\anaconda3\\envs\\tf-gpu\\lib\\site-packages (from matplotlib>=2.2->seaborn) (2.8.1)\n",
      "Requirement already satisfied: pillow>=6.2.0 in c:\\users\\sudhakar\\anaconda3\\envs\\tf-gpu\\lib\\site-packages (from matplotlib>=2.2->seaborn) (8.0.1)\n",
      "Requirement already satisfied: kiwisolver>=1.0.1 in c:\\users\\sudhakar\\anaconda3\\envs\\tf-gpu\\lib\\site-packages (from matplotlib>=2.2->seaborn) (1.3.1)\n",
      "Requirement already satisfied: certifi>=2020.06.20 in c:\\users\\sudhakar\\anaconda3\\envs\\tf-gpu\\lib\\site-packages (from matplotlib>=2.2->seaborn) (2020.6.20)\n",
      "Requirement already satisfied: pyparsing!=2.0.4,!=2.1.2,!=2.1.6,>=2.0.3 in c:\\users\\sudhakar\\anaconda3\\envs\\tf-gpu\\lib\\site-packages (from matplotlib>=2.2->seaborn) (2.4.7)\n",
      "Requirement already satisfied: cycler>=0.10 in c:\\users\\sudhakar\\anaconda3\\envs\\tf-gpu\\lib\\site-packages (from matplotlib>=2.2->seaborn) (0.10.0)\n",
      "Requirement already satisfied: pytz>=2017.2 in c:\\users\\sudhakar\\anaconda3\\envs\\tf-gpu\\lib\\site-packages (from pandas>=0.23->seaborn) (2020.4)\n",
      "Requirement already satisfied: six>=1.5 in c:\\users\\sudhakar\\anaconda3\\envs\\tf-gpu\\lib\\site-packages (from python-dateutil>=2.1->matplotlib>=2.2->seaborn) (1.15.0)\n",
      "Requirement already satisfied: h5py in c:\\users\\sudhakar\\anaconda3\\envs\\tf-gpu\\lib\\site-packages (2.10.0)\n",
      "Requirement already satisfied: numpy>=1.7 in c:\\users\\sudhakar\\anaconda3\\envs\\tf-gpu\\lib\\site-packages (from h5py) (1.19.2)\n",
      "Requirement already satisfied: six in c:\\users\\sudhakar\\anaconda3\\envs\\tf-gpu\\lib\\site-packages (from h5py) (1.15.0)\n",
      "Requirement already satisfied: scikit-learn in c:\\users\\sudhakar\\anaconda3\\envs\\tf-gpu\\lib\\site-packages (0.23.2)\n",
      "Requirement already satisfied: threadpoolctl>=2.0.0 in c:\\users\\sudhakar\\anaconda3\\envs\\tf-gpu\\lib\\site-packages (from scikit-learn) (2.1.0)\n",
      "Requirement already satisfied: scipy>=0.19.1 in c:\\users\\sudhakar\\anaconda3\\envs\\tf-gpu\\lib\\site-packages (from scikit-learn) (1.5.2)\n",
      "Requirement already satisfied: joblib>=0.11 in c:\\users\\sudhakar\\anaconda3\\envs\\tf-gpu\\lib\\site-packages (from scikit-learn) (0.17.0)\n",
      "Requirement already satisfied: numpy>=1.13.3 in c:\\users\\sudhakar\\anaconda3\\envs\\tf-gpu\\lib\\site-packages (from scikit-learn) (1.19.2)\n",
      "Collecting glob2\n",
      "  Downloading glob2-0.7.tar.gz (10 kB)\n",
      "Building wheels for collected packages: glob2\n",
      "  Building wheel for glob2 (setup.py): started\n",
      "  Building wheel for glob2 (setup.py): finished with status 'done'\n",
      "  Created wheel for glob2: filename=glob2-0.7-py2.py3-none-any.whl size=9312 sha256=14d1de8eee2c591c4269183bdedf5b8c7f482618c7245cefdf45aeee5169d2fe\n",
      "  Stored in directory: c:\\users\\sudhakar\\appdata\\local\\pip\\cache\\wheels\\d7\\3c\\72\\5300602ba1269ffce8cff5dcf7b525fee756b57455903c37ba\n",
      "Successfully built glob2\n",
      "Installing collected packages: glob2\n",
      "Successfully installed glob2-0.7\n"
     ]
    }
   ],
   "source": [
    "!pip install pandas\n",
    "!pip install matplotlib\n",
    "!pip install seaborn\n",
    "!pip install h5py\n",
    "!pip install scikit-learn\n",
    "!pip install glob2"
   ]
  },
  {
   "cell_type": "code",
   "execution_count": 3,
   "metadata": {},
   "outputs": [],
   "source": [
    "import pandas as pd\n",
    "import matplotlib.pyplot as plt\n",
    "import seaborn as sns\n",
    "\n",
    "from sklearn.model_selection import train_test_split\n",
    "\n",
    "import glob\n",
    "\n",
    "from sklearn.preprocessing import RobustScaler\n",
    "from scipy import stats\n",
    "import numpy as np\n",
    "import h5py\n",
    "# from tensorflow.keras.models import model_from_json"
   ]
  },
  {
   "cell_type": "code",
   "execution_count": 4,
   "metadata": {},
   "outputs": [],
   "source": [
    "def get_raw_data(xfile, yfile):\n",
    "    check_df_y = pd.read_csv(yfile)\n",
    "    check_df_x = pd.read_csv(xfile)\n",
    "    \n",
    "    new_labels = []\n",
    "    for i in check_df_y.iterrows():\n",
    "        new_labels += [i[1][0]] * 4\n",
    "    \n",
    "    new_labels = pd.DataFrame(new_labels)\n",
    "    diff = check_df_x.shape[0] - new_labels.shape[0]\n",
    "    check_df_x = check_df_x.iloc[:-diff,:]\n",
    "    \n",
    "    return check_df_x, new_labels"
   ]
  },
  {
   "cell_type": "code",
   "execution_count": 5,
   "metadata": {},
   "outputs": [],
   "source": [
    "def compose_series_data(x_files, y_files, time_steps = 40, step = 1):\n",
    "    all_x = []\n",
    "    all_y = []\n",
    "    # create a series from all the subjects\n",
    "    for i in range(len(y_files)):\n",
    "        # get x-y balanced data, basically removed the extra values in x\n",
    "        X, y = get_raw_data(x_files[i], y_files[i])\n",
    "        \n",
    "        # scale data\n",
    "        X = scale_data(X, list(X.columns.values))\n",
    "        # create series data for this file\n",
    "        X, y = create_dataset_with_mode_labels(X, y, time_steps = time_steps, step = step)\n",
    "        \n",
    "        all_x.append(X)\n",
    "        all_y.append(y)\n",
    "    return np.concatenate(all_x), np.concatenate(all_y)"
   ]
  },
  {
   "cell_type": "code",
   "execution_count": 6,
   "metadata": {},
   "outputs": [],
   "source": [
    "def scale_data(df_data, scale_columns):\n",
    "    scaler = RobustScaler()\n",
    "    scaler = scaler.fit(df_data[scale_columns])\n",
    "\n",
    "    df_data.loc[:, scale_columns] = scaler.transform(df_data[scale_columns].to_numpy())\n",
    "    return df_data"
   ]
  },
  {
   "cell_type": "code",
   "execution_count": 7,
   "metadata": {},
   "outputs": [],
   "source": [
    "def create_dataset_with_mode_labels(X, y, time_steps=1, step=1):\n",
    "    Xs, ys = [], []\n",
    "    for i in range(0, len(X) - time_steps, step):\n",
    "        v = X.iloc[i:(i + time_steps)].values\n",
    "        labels = y.iloc[i: i + time_steps]\n",
    "        Xs.append(v)\n",
    "        ys.append(stats.mode(labels)[0][0])\n",
    "    return np.array(Xs), np.array(ys).reshape(-1, 1)"
   ]
  },
  {
   "cell_type": "code",
   "execution_count": 8,
   "metadata": {},
   "outputs": [],
   "source": [
    "def create_dataset(X, label, time_steps = 40, step = 1):\n",
    "    Xs, ys = [], []\n",
    "    for i in range(0, len(X) - time_steps, step):\n",
    "        v = X.iloc[i:(i + time_steps)].values\n",
    "        Xs.append(v)        \n",
    "        ys.append(label)\n",
    "    return np.array(Xs), np.array(ys).reshape(-1, 1)"
   ]
  },
  {
   "cell_type": "code",
   "execution_count": 22,
   "metadata": {},
   "outputs": [],
   "source": [
    "all_y_files = sorted(glob.glob('Data/TrainingData/subject_???_??__y.csv'))\n",
    "all_x_files = sorted(glob.glob('Data/TrainingData/subject_???_??__x.csv'))\n",
    "\n",
    "test_y_files = [\"Data/TrainingData/subject_002_03__y.csv\", \"Data/TrainingData/subject_001_04__y.csv\"]\n",
    "test_x_files = [\"Data/TrainingData/subject_002_03__x.csv\", \"Data/TrainingData/subject_001_04__x.csv\"]\n",
    "\n",
    "val_y_files = [\"Data/TrainingData/subject_003_02__y.csv\", \"Data/TrainingData/subject_007_04__y.csv\"]\n",
    "val_x_files = [\"Data/TrainingData/subject_003_02__x.csv\", \"Data/TrainingData/subject_007_04__x.csv\"]\n",
    "\n",
    "# subtract the files that are in test and val\n",
    "train_y_files = sorted(list(set(all_y_files) ^ set(test_y_files + val_y_files)))\n",
    "train_x_files = sorted(list(set(all_x_files) ^ set(test_x_files + val_x_files)))"
   ]
  },
  {
   "cell_type": "code",
   "execution_count": 23,
   "metadata": {},
   "outputs": [],
   "source": [
    "TIME_STEPS = 60\n",
    "STEP = 1"
   ]
  },
  {
   "cell_type": "code",
   "execution_count": 24,
   "metadata": {},
   "outputs": [
    {
     "name": "stdout",
     "output_type": "stream",
     "text": [
      "(1529944, 60, 6) (1529944, 1)\n",
      "(86524, 60, 6) (86524, 1)\n",
      "(103624, 60, 6) (103624, 1)\n"
     ]
    }
   ],
   "source": [
    "X_train, y_train = compose_series_data(train_x_files, train_y_files, time_steps = TIME_STEPS, step = STEP)\n",
    "X_val, y_val = compose_series_data(val_x_files, val_y_files, time_steps = TIME_STEPS, step = STEP)\n",
    "X_test, y_test = compose_series_data(test_x_files, test_y_files, time_steps = TIME_STEPS, step = STEP)\n",
    "\n",
    "print(X_train.shape, y_train.shape)\n",
    "print(X_val.shape, y_val.shape)\n",
    "print(X_test.shape, y_test.shape)"
   ]
  },
  {
   "cell_type": "code",
   "execution_count": 25,
   "metadata": {},
   "outputs": [
    {
     "name": "stderr",
     "output_type": "stream",
     "text": [
      "c:\\users\\sudhakar\\anaconda3\\envs\\tf-gpu\\lib\\site-packages\\sklearn\\utils\\validation.py:70: FutureWarning: Pass classes=[0 1 2 3], y=[0 0 0 ... 0 0 0] as keyword args. From version 0.25 passing these as positional arguments will result in an error\n",
      "  FutureWarning)\n"
     ]
    },
    {
     "name": "stdout",
     "output_type": "stream",
     "text": [
      "[0.33202544 5.9781185  4.76095994 1.63702508]\n"
     ]
    },
    {
     "data": {
      "text/plain": [
       "{0: 0.33202543798579487,\n",
       " 1: 5.978118503930855,\n",
       " 2: 4.760959944235605,\n",
       " 3: 1.6370250848502228}"
      ]
     },
     "execution_count": 25,
     "metadata": {},
     "output_type": "execute_result"
    }
   ],
   "source": [
    "from sklearn.utils import class_weight\n",
    "class_weights = class_weight.compute_class_weight('balanced',\n",
    "                                                 np.unique(y_train),\n",
    "                                                 y_train.ravel())\n",
    "print(class_weights)\n",
    "class_weights = {i:class_weights[i] for i in range(len(class_weights))}\n",
    "class_weights"
   ]
  },
  {
   "cell_type": "code",
   "execution_count": 26,
   "metadata": {},
   "outputs": [],
   "source": [
    "from sklearn.preprocessing import OneHotEncoder\n",
    "\n",
    "enc = OneHotEncoder(handle_unknown='ignore', sparse=False)\n",
    "\n",
    "# if the output of the network is integer, convert to one-hot\n",
    "# if y_train.shape[1] == 1:\n",
    "enc = enc.fit(y_train)\n",
    "y_train = enc.transform(y_train)\n",
    "y_test = enc.transform(y_test)\n",
    "y_val = enc.transform(y_val)"
   ]
  },
  {
   "cell_type": "code",
   "execution_count": 27,
   "metadata": {},
   "outputs": [],
   "source": [
    "import tensorflow as tf\n",
    "from tensorflow import keras\n",
    "\n",
    "# tf.random.set_seed(1234)"
   ]
  },
  {
   "cell_type": "code",
   "execution_count": 28,
   "metadata": {},
   "outputs": [],
   "source": [
    "def get_lstm_model(X_train):\n",
    "    model = keras.Sequential()\n",
    "    model.add(\n",
    "          keras.layers.LSTM(\n",
    "              units=128, \n",
    "              input_shape=[X_train.shape[1], X_train.shape[2]]\n",
    "          )\n",
    "    )\n",
    "    model.add(keras.layers.Dropout(rate=0.5))\n",
    "    model.add(keras.layers.Dense(units=128, activation='relu'))\n",
    "    model.add(keras.layers.Dense(y_train.shape[1], activation='softmax'))\n",
    "    model.compile(loss='categorical_crossentropy', optimizer='adam', metrics=['acc'])\n",
    "    \n",
    "    return model"
   ]
  },
  {
   "cell_type": "code",
   "execution_count": 29,
   "metadata": {},
   "outputs": [],
   "source": [
    "def get_bilstm_model(X_train):\n",
    "    model = keras.Sequential()\n",
    "    model.add(\n",
    "        keras.layers.Bidirectional(\n",
    "          keras.layers.LSTM(\n",
    "              units=128, \n",
    "              input_shape=[X_train.shape[1], X_train.shape[2]]\n",
    "          )\n",
    "        )\n",
    "    )\n",
    "    model.add(keras.layers.Dropout(rate=0.5))\n",
    "    model.add(keras.layers.Dense(units=128, activation='relu'))\n",
    "    model.add(keras.layers.Dense(y_train.shape[1], activation='softmax'))\n",
    "    model.compile(loss='categorical_crossentropy', optimizer='adam', metrics=['acc'])\n",
    "    \n",
    "    return model"
   ]
  },
  {
   "cell_type": "code",
   "execution_count": 30,
   "metadata": {},
   "outputs": [],
   "source": [
    "# model = get_lstm_model(X_train)"
   ]
  },
  {
   "cell_type": "code",
   "execution_count": 31,
   "metadata": {},
   "outputs": [],
   "source": [
    "# save the model\n",
    "# note the time steps\n",
    "model_name = \"model_BiLSTM_window_continuous_ts%d_s%d\"%(TIME_STEPS, STEP)"
   ]
  },
  {
   "cell_type": "code",
   "execution_count": 33,
   "metadata": {},
   "outputs": [],
   "source": [
    "model = get_bilstm_model(X_train)"
   ]
  },
  {
   "cell_type": "code",
   "execution_count": 34,
   "metadata": {},
   "outputs": [
    {
     "name": "stdout",
     "output_type": "stream",
     "text": [
      "11953/11953 [==============================] - 357s 30ms/step - loss: 0.8749 - acc: 0.5111 - val_loss: 0.7670 - val_acc: 0.8508\n"
     ]
    }
   ],
   "source": [
    "callback = tf.keras.callbacks.EarlyStopping(monitor='loss', patience=2)\n",
    "\n",
    "history = model.fit(\n",
    "    X_train, y_train,\n",
    "    epochs=1,\n",
    "    batch_size=128,\n",
    "    validation_data=(X_val,y_val),\n",
    "    class_weight=class_weights,\n",
    "    shuffle=False\n",
    ")"
   ]
  },
  {
   "cell_type": "code",
   "execution_count": 36,
   "metadata": {},
   "outputs": [
    {
     "data": {
      "image/png": "[encoded data removed]",
      "text/plain": [
       "<Figure size 720x432 with 1 Axes>"
      ]
     },
     "metadata": {
      "needs_background": "light"
     },
     "output_type": "display_data"
    }
   ],
   "source": [
    "plt.plot(history.history['acc'], label='train')\n",
    "plt.plot(history.history['val_acc'], label='validation')\n",
    "\n",
    "plt.plot(history.history['loss'], label='train')\n",
    "plt.plot(history.history['val_loss'], label='validation')\n",
    "savetype = \"loss_.jpg\"\n",
    "\n",
    "plt.legend()\n",
    "fig = plt.gcf()\n",
    "fig.set_size_inches(10, 6)\n",
    "\n",
    "# plt.savefig(\"images/\" + model_name + savetype, dpi=100)"
   ]
  },
  {
   "cell_type": "code",
   "execution_count": 37,
   "metadata": {},
   "outputs": [
    {
     "name": "stdout",
     "output_type": "stream",
     "text": [
      "3239/3239 [==============================] - 26s 8ms/step - loss: 0.7960 - acc: 0.7966\n"
     ]
    },
    {
     "data": {
      "text/plain": [
       "[0.7960485219955444, 0.7966398000717163]"
      ]
     },
     "execution_count": 37,
     "metadata": {},
     "output_type": "execute_result"
    }
   ],
   "source": [
    "model.evaluate(X_test, y_test)"
   ]
  },
  {
   "cell_type": "code",
   "execution_count": 38,
   "metadata": {},
   "outputs": [],
   "source": [
    "y_pred = model.predict(X_test)"
   ]
  },
  {
   "cell_type": "code",
   "execution_count": 39,
   "metadata": {},
   "outputs": [],
   "source": [
    "from sklearn.metrics import confusion_matrix, classification_report\n",
    "\n",
    "def plot_cm(y_true, y_pred, class_names):\n",
    "  cm = confusion_matrix(y_true, y_pred)\n",
    "  fig, ax = plt.subplots(figsize=(18, 16)) \n",
    "  ax = sns.heatmap(\n",
    "      cm, \n",
    "      annot=True, \n",
    "      fmt=\"d\", \n",
    "      cmap=sns.diverging_palette(220, 20, n=7),\n",
    "      ax=ax\n",
    "  )\n",
    "\n",
    "  plt.ylabel('Actual')\n",
    "  plt.xlabel('Predicted')\n",
    "  ax.set_xticklabels(class_names)\n",
    "  ax.set_yticklabels(class_names)\n",
    "  b, t = plt.ylim() # discover the values for bottom and top\n",
    "  b += 0.5 # Add 0.5 to the bottom\n",
    "  t -= 0.5 # Subtract 0.5 from the top\n",
    "  plt.ylim(b, t) # update the ylim(bottom, top) values\n",
    "  plt.show() # ta-da!"
   ]
  },
  {
   "cell_type": "code",
   "execution_count": 62,
   "metadata": {},
   "outputs": [
    {
     "data": {
      "text/plain": [
       "array([0, 1, 2, 3])"
      ]
     },
     "execution_count": 62,
     "metadata": {},
     "output_type": "execute_result"
    }
   ],
   "source": [
    "np.unique(y_pred_int)"
   ]
  },
  {
   "cell_type": "code",
   "execution_count": 40,
   "metadata": {},
   "outputs": [
    {
     "data": {
      "image/png": "[encoded data removed]",
      "text/plain": [
       "<Figure size 1296x1152 with 2 Axes>"
      ]
     },
     "metadata": {
      "needs_background": "light"
     },
     "output_type": "display_data"
    }
   ],
   "source": [
    "plot_cm(\n",
    "  enc.inverse_transform(y_test),\n",
    "  enc.inverse_transform(y_pred),\n",
    "  enc.categories_[0]\n",
    ")"
   ]
  },
  {
   "cell_type": "code",
   "execution_count": 41,
   "metadata": {},
   "outputs": [
    {
     "name": "stdout",
     "output_type": "stream",
     "text": [
      "              precision    recall  f1-score   support\n",
      "\n",
      "           0       0.80      0.98      0.88     75760\n",
      "           1       0.79      0.63      0.70      6134\n",
      "           2       0.83      0.84      0.84      5506\n",
      "           3       0.00      0.00      0.00     16224\n",
      "\n",
      "    accuracy                           0.80    103624\n",
      "   macro avg       0.61      0.61      0.60    103624\n",
      "weighted avg       0.67      0.80      0.73    103624\n",
      "\n"
     ]
    }
   ],
   "source": [
    "print(classification_report(enc.inverse_transform(y_test), enc.inverse_transform(y_pred)))"
   ]
  },
  {
   "cell_type": "code",
   "execution_count": 64,
   "metadata": {},
   "outputs": [],
   "source": [
    "def save_model(model, name):\n",
    "    model_json = model.to_json()\n",
    "    with open(\"%s.json\"%(name), \"w\") as json_file:\n",
    "        json_file.write(model_json)\n",
    "    model.save_weights(\"%s.hdf5\"%(name))"
   ]
  },
  {
   "cell_type": "code",
   "execution_count": 65,
   "metadata": {},
   "outputs": [],
   "source": [
    "def get_model(name):\n",
    "    json_file = open('%s.json'%(name), 'r')\n",
    "    loaded_model_json = json_file.read()\n",
    "    json_file.close()\n",
    "    loaded_model = model_from_json(loaded_model_json)\n",
    "    loaded_model.load_weights(\"%s.hdf5\"%(name))\n",
    "    model = loaded_model\n",
    "    return model"
   ]
  },
  {
   "cell_type": "code",
   "execution_count": 67,
   "metadata": {},
   "outputs": [],
   "source": [
    "save_model(model, model_name)"
   ]
  }
 ],
 "metadata": {
  "environment": {
   "name": "tf2-gpu.2-1.m58",
   "type": "gcloud",
   "uri": "gcr.io/deeplearning-platform-release/tf2-gpu.2-1:m58"
  },
  "kernelspec": {
   "display_name": "Python 3",
   "language": "python",
   "name": "python3"
  },
  "language_info": {
   "codemirror_mode": {
    "name": "ipython",
    "version": 3
   },
   "file_extension": ".py",
   "mimetype": "text/x-python",
   "name": "python",
   "nbconvert_exporter": "python",
   "pygments_lexer": "ipython3",
   "version": "3.7.9"
  }
 },
 "nbformat": 4,
 "nbformat_minor": 4
}
